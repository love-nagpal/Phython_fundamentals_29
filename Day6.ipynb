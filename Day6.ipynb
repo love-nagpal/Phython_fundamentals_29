{
 "cells": [
  {
   "cell_type": "code",
   "execution_count": null,
   "metadata": {},
   "outputs": [],
   "source": [
    "Req: i want to get every alterante stdent in the  group "
   ]
  },
  {
   "cell_type": "code",
   "execution_count": 1,
   "metadata": {},
   "outputs": [
    {
     "name": "stdout",
     "output_type": "stream",
     "text": [
      "['love', 'sham', 'lalit', 'karan', 'geetansh']\n"
     ]
    }
   ],
   "source": [
    "student=['love','sham', 'lalit','karan', 'geetansh']\n",
    "print(student)"
   ]
  },
  {
   "cell_type": "code",
   "execution_count": 3,
   "metadata": {},
   "outputs": [
    {
     "name": "stdout",
     "output_type": "stream",
     "text": [
      "['love', 'karan']\n"
     ]
    }
   ],
   "source": [
    "print(student[0:7:3])"
   ]
  },
  {
   "cell_type": "code",
   "execution_count": null,
   "metadata": {},
   "outputs": [],
   "source": [
    "introduction to for loops\n"
   ]
  },
  {
   "cell_type": "code",
   "execution_count": null,
   "metadata": {},
   "outputs": [],
   "source": []
  },
  {
   "cell_type": "code",
   "execution_count": 4,
   "metadata": {},
   "outputs": [],
   "source": [
    "newstudents=['anjali','mansoora', 'ajeth','naveed', 'kiran', 'ram',' harshita','rubair']"
   ]
  },
  {
   "cell_type": "code",
   "execution_count": 6,
   "metadata": {},
   "outputs": [
    {
     "name": "stdout",
     "output_type": "stream",
     "text": [
      " keep the good work, anjali\n"
     ]
    }
   ],
   "source": [
    "print(f\" keep the good work, {newstudents[0]}\")"
   ]
  },
  {
   "cell_type": "code",
   "execution_count": 7,
   "metadata": {},
   "outputs": [
    {
     "name": "stdout",
     "output_type": "stream",
     "text": [
      " keep the good work, Anjali\n"
     ]
    }
   ],
   "source": [
    "print(f\" keep the good work, {newstudents[0].title()}\")"
   ]
  },
  {
   "cell_type": "code",
   "execution_count": 8,
   "metadata": {},
   "outputs": [
    {
     "name": "stdout",
     "output_type": "stream",
     "text": [
      " keep the good work, Mansoora\n"
     ]
    }
   ],
   "source": [
    "print(f\" keep the good work, {newstudents[1].title()}\")"
   ]
  },
  {
   "cell_type": "code",
   "execution_count": 9,
   "metadata": {},
   "outputs": [
    {
     "name": "stdout",
     "output_type": "stream",
     "text": [
      " keep the good work, Ajeth\n"
     ]
    }
   ],
   "source": [
    "print(f\" keep the good work, {newstudents[2].title()}\")"
   ]
  },
  {
   "cell_type": "code",
   "execution_count": 10,
   "metadata": {},
   "outputs": [
    {
     "name": "stdout",
     "output_type": "stream",
     "text": [
      " keep the good work, Naveed\n"
     ]
    }
   ],
   "source": [
    "print(f\" keep the good work, {newstudents[3].title()}\")"
   ]
  },
  {
   "cell_type": "code",
   "execution_count": 11,
   "metadata": {},
   "outputs": [
    {
     "name": "stdout",
     "output_type": "stream",
     "text": [
      " keep the good work, Kiran\n"
     ]
    }
   ],
   "source": [
    "print(f\" keep the good work, {newstudents[4].title()}\")"
   ]
  },
  {
   "cell_type": "code",
   "execution_count": 12,
   "metadata": {},
   "outputs": [
    {
     "name": "stdout",
     "output_type": "stream",
     "text": [
      " keep the good work, Ram\n"
     ]
    }
   ],
   "source": [
    "print(f\" keep the good work, {newstudents[5].title()}\")"
   ]
  },
  {
   "cell_type": "code",
   "execution_count": 13,
   "metadata": {},
   "outputs": [
    {
     "name": "stdout",
     "output_type": "stream",
     "text": [
      " keep the good work,  Harshita\n"
     ]
    }
   ],
   "source": [
    "print(f\" keep the good work, {newstudents[6].title()}\")"
   ]
  },
  {
   "cell_type": "code",
   "execution_count": 14,
   "metadata": {},
   "outputs": [
    {
     "name": "stdout",
     "output_type": "stream",
     "text": [
      " keep the good work, Rubair\n"
     ]
    }
   ],
   "source": [
    "print(f\" keep the good work, {newstudents[7].title()}\")"
   ]
  },
  {
   "cell_type": "code",
   "execution_count": 18,
   "metadata": {},
   "outputs": [
    {
     "name": "stdout",
     "output_type": "stream",
     "text": [
      "keep the good work, anjali\n",
      "keep the good work, mansoora\n",
      "keep the good work, ajeth\n",
      "keep the good work, naveed\n",
      "keep the good work, kiran\n",
      "keep the good work, ram\n",
      "keep the good work,  harshita\n",
      "keep the good work, rubair\n"
     ]
    }
   ],
   "source": [
    "for student in newstudents:\n",
    "    print(f\"keep the good work, {student}\")"
   ]
  },
  {
   "cell_type": "code",
   "execution_count": null,
   "metadata": {},
   "outputs": [],
   "source": [
    "for tempvar in mainvar:\n",
    "    print(tempvar)"
   ]
  },
  {
   "cell_type": "code",
   "execution_count": 22,
   "metadata": {},
   "outputs": [
    {
     "name": "stdout",
     "output_type": "stream",
     "text": [
      "keep it upanjali\n",
      "keep it upmansoora\n",
      "keep it upajeth\n",
      "keep it upnaveed\n",
      "keep it upkiran\n",
      "keep it upram\n",
      "keep it up harshita\n",
      "keep it uprubair\n"
     ]
    }
   ],
   "source": [
    "for x in newstudents:\n",
    "    print(f\"keep it up{x}\")"
   ]
  },
  {
   "cell_type": "code",
   "execution_count": 24,
   "metadata": {},
   "outputs": [
    {
     "name": "stdout",
     "output_type": "stream",
     "text": [
      "anjali\n",
      "mansoora\n",
      "ajeth\n",
      "naveed\n",
      "kiran\n",
      "ram\n",
      " harshita\n",
      "rubair\n"
     ]
    }
   ],
   "source": [
    "for y in newstudents:\n",
    "    print(y)"
   ]
  },
  {
   "cell_type": "code",
   "execution_count": 26,
   "metadata": {},
   "outputs": [
    {
     "name": "stdout",
     "output_type": "stream",
     "text": [
      "keep it upanjali\n",
      "i am looking forward to receve your files of todayanjali\n",
      "\n",
      "keep it upmansoora\n",
      "i am looking forward to receve your files of todaymansoora\n",
      "\n",
      "keep it upajeth\n",
      "i am looking forward to receve your files of todayajeth\n",
      "\n",
      "keep it upnaveed\n",
      "i am looking forward to receve your files of todaynaveed\n",
      "\n",
      "keep it upkiran\n",
      "i am looking forward to receve your files of todaykiran\n",
      "\n",
      "keep it upram\n",
      "i am looking forward to receve your files of todayram\n",
      "\n",
      "keep it up harshita\n",
      "i am looking forward to receve your files of today harshita\n",
      "\n",
      "keep it uprubair\n",
      "i am looking forward to receve your files of todayrubair\n",
      "\n"
     ]
    }
   ],
   "source": [
    "for ironman in newstudents:\n",
    "    print(f\"keep it up{ironman}\")\n",
    "    print(f\"i am looking forward to receve your files of today{ironman}\\n\")"
   ]
  },
  {
   "cell_type": "code",
   "execution_count": null,
   "metadata": {},
   "outputs": [],
   "source": []
  }
 ],
 "metadata": {
  "kernelspec": {
   "display_name": "Python 3",
   "language": "python",
   "name": "python3"
  },
  "language_info": {
   "codemirror_mode": {
    "name": "ipython",
    "version": 3
   },
   "file_extension": ".py",
   "mimetype": "text/x-python",
   "name": "python",
   "nbconvert_exporter": "python",
   "pygments_lexer": "ipython3",
   "version": "3.8.3"
  }
 },
 "nbformat": 4,
 "nbformat_minor": 4
}
